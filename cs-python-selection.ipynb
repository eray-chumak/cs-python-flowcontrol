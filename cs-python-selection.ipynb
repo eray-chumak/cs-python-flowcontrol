{
 "cells": [
  {
   "cell_type": "markdown",
   "metadata": {},
   "source": [
    "# Selection\n",
    "\n",
    "Sometimes we only want a program to execute code under certain circumstances.  We call this selection.  The most commonly used way of doing this is using if.  Here we say if a condition is true execute some code. \n",
    "First we need to make sure we are happy what a condition is.  A boolean condition is one that can have only two values true or false. \n",
    "\n",
    "The boolean comparison operators are as follows:\n",
    " \n",
    "Operator Meaning\n",
    "\n",
    "symbol ==   Equal to\n",
    "\n",
    "symbol !=   Not equal to\n",
    "\n",
    "symbol <    Less than\n",
    "\n",
    "symbol <=  Less than or equal to\n",
    "\n",
    "symbol >    Greater than\n",
    "\n",
    "symbol >=   Greater than or equal to"
   ]
  },
  {
   "cell_type": "code",
   "execution_count": null,
   "metadata": {},
   "outputs": [],
   "source": [
    "letter = 'a'\n",
    "if letter =='a':\n",
    "    print('This prints if letter is a')"
   ]
  },
  {
   "cell_type": "markdown",
   "metadata": {},
   "source": [
    "We can add as many statements we want inside the if.  Each should be indented.\n",
    "We can tell the computer to do something different when the condition isn’t true using the else keyword."
   ]
  },
  {
   "cell_type": "code",
   "execution_count": null,
   "metadata": {},
   "outputs": [],
   "source": [
    "if letter =='a':\n",
    "    print('This prints if letter is a')\n",
    "else:\n",
    "    print('This prints if the letter is not an a')"
   ]
  },
  {
   "cell_type": "markdown",
   "metadata": {},
   "source": [
    "### Task 1:\n",
    "Write a program that tells the user what to wear (shorts, trousers, hat, coat, etc etc you choose) based on the temperature that they input.\n",
    "\n",
    "Use well-named variable(s), constants(s), string(s), type conversion, a complex IF statement, comparison and logical operators, and good input and output messages."
   ]
  },
  {
   "cell_type": "code",
   "execution_count": 1,
   "metadata": {},
   "outputs": [
    {
     "name": "stdout",
     "output_type": "stream",
     "text": [
      "TEMPERATURE: -5\n",
      "AGE: 11\n",
      "HEAD: hat\n",
      "TOP: jacket\n",
      "BOTTOM: trousers\n",
      "FEET: boots\n"
     ]
    }
   ],
   "source": [
    "# Outfit class for efficient outfit part management.\n",
    "class Outfit:\n",
    "    def __init__(self, outfit):\n",
    "        self.head = outfit[0]\n",
    "        self.top = outfit[1]\n",
    "        self.bottom = outfit[2]\n",
    "        self.feet = outfit[3]\n",
    "\n",
    "# Layout: Head, Top, Bottom, Feet.\n",
    "def get_outfit(temperature, age):\n",
    "    if temperature > 35:\n",
    "        return [\"\", \"\", \"shorts\", \"sandals\"]\n",
    "    if temperature >= 24 and temperature <= 35:\n",
    "        return [\"\", \"no sleeves shirt\", \"shorts\", \"sandals\"]\n",
    "    if temperature >= 16 and temperature < 24:\n",
    "        return [\"\", \"sleeved shirt\", \"shorts\", \"shoes\"]\n",
    "    if temperature >= 10 and temperature < 16:\n",
    "        if age <= 13:\n",
    "            return [\"hat\", \"jumper\", \"trousers\", \"shoes\"]\n",
    "        return [\"\", \"jumper\", \"trousers\", \"shoes\"]\n",
    "    if temperature >= 0 and temperature < 10:\n",
    "        if age <= 13:\n",
    "            return [\"hat\", [\"jacket\", \"jumper\"], \"trousers\", \"shoes\"]\n",
    "        return [\"\", [\"jacket\", \"sleeved shirt\"], \"trousers\", \"shoes\"]\n",
    "    if temperature < 0:\n",
    "        return [\"hat\", \"jacket\", \"trousers\", \"boots\"]\n",
    "\n",
    "# requests temperature from cli.\n",
    "def req_temp():\n",
    "    try:\n",
    "        return float(input(\"TEMPERATURE: \"))\n",
    "    except ValueError:\n",
    "        print(\"\\n\" + \"Invalid float input.\" + \"\\n\")\n",
    "        req_temp()\n",
    "\n",
    "# requests age from cli.\n",
    "def req_age():\n",
    "    try:\n",
    "        return float(input(\"AGE: \"))\n",
    "    except ValueError:\n",
    "        print(\"\\n\" + \"Invalid float input.\" + \"\\n\")\n",
    "        req_age()\n",
    "\n",
    "# inheritances.\n",
    "current_outfit = Outfit(get_outfit(req_temp(), req_age()))\n",
    "\n",
    "print(f\"HEAD: {current_outfit.head}\")\n",
    "print(f\"TOP: {current_outfit.top}\")\n",
    "print(f\"BOTTOM: {current_outfit.bottom}\")\n",
    "print(f\"FEET: {current_outfit.feet}\")"
   ]
  },
  {
   "cell_type": "markdown",
   "metadata": {},
   "source": [
    "### A Note on Indentation\n",
    "When you start a new line after a colon your code (if writing it inside IDLE) you should find your code indented).  Lines will keep indenting until you press backspace.  Python knows that anything indented is inside the structure with the colon - in this case the if.  Indenting is considered good practice in all programming languages as it makes code easier to read but in Python it is even more important as it affects the code’s meaning."
   ]
  },
  {
   "cell_type": "markdown",
   "metadata": {},
   "source": [
    "Copy and run sinle line of the code in the cell below and observe the results\n",
    "\n",
    "1 < x < 3\n",
    "\n",
    "10 < x < 20\n",
    "\n",
    "3 > x <= 2\n",
    "\n",
    "2 == x < 4"
   ]
  },
  {
   "cell_type": "code",
   "execution_count": null,
   "metadata": {},
   "outputs": [],
   "source": [
    "x = 2\n",
    "# write a single line of code here and run \n",
    "# observe the results\n"
   ]
  },
  {
   "cell_type": "code",
   "execution_count": null,
   "metadata": {},
   "outputs": [],
   "source": [
    "# input any number between 1 and 100\n",
    "x=int(input('Enter a number between 1 and 100: '))\n",
    "# check the validity of the number\n",
    "if x>=1 and x<=100:\n",
    "    print('You have entered a valid number')\n",
    "else:\n",
    "    print('Your number is not valid')"
   ]
  },
  {
   "cell_type": "markdown",
   "metadata": {},
   "source": [
    "A common mistake would be to write the if line as if x>=1 and <=100 missing out the second x.  Remove the x and check out the result. Does it generate an error?"
   ]
  },
  {
   "cell_type": "markdown",
   "metadata": {},
   "source": [
    "#### Logical operators\n",
    "For more complex conditions we can use AND, OR and NOT. \n",
    "\n",
    "AND : both conditions must be TRUE\n",
    "\n",
    "OR : one condition must be TRUE\n",
    "\n",
    "NOT : only applies to one condition - the opposite"
   ]
  },
  {
   "cell_type": "markdown",
   "metadata": {},
   "source": [
    "## Psuedocode example for IF/ELSE statements\n",
    "\n",
    "IF age > 12 AND height > 3 THEN\n",
    "\n",
    "  OUTPUT “You can ride the roller coaster”\n",
    "  \n",
    "END IF\n",
    "\n",
    "IF age <13 OR age > 19 THEN\n",
    "\n",
    "  OUTPUT “You are not eligible for teen discount”\n",
    "  \n",
    "END IF\n",
    "\n",
    "IF NOT ((age > 12) AND (height > 3)) THEN\n",
    "\n",
    "  OUTPUT “You cannot ride the roller coaster”\n",
    "  \n",
    "END IF"
   ]
  },
  {
   "cell_type": "markdown",
   "metadata": {},
   "source": [
    "##### Could you explain the logic for the above program?"
   ]
  },
  {
   "cell_type": "markdown",
   "metadata": {},
   "source": [
    "### Task 2:\n",
    "\n",
    "The grade boundaries for a test are:\n",
    "U -  0\n",
    "D – 40\n",
    "C – 50\n",
    "B – 60\n",
    "A – 70\n",
    "\n",
    "Write a Python program that asks for a mark and then says what grade it is worth."
   ]
  },
  {
   "cell_type": "code",
   "execution_count": null,
   "metadata": {},
   "outputs": [
    {
     "name": "stdout",
     "output_type": "stream",
     "text": [
      "MARKS: -1\n",
      "Marks have to be between 1 and 70.\n"
     ]
    }
   ],
   "source": [
    "# returns inputted user marks when called. Syntax: \n",
    "def req_marks():\n",
    "    try:\n",
    "        marks = int(input(\"MARKS: \"))\n",
    "        if (marks < 0 or marks > 80):\n",
    "            raise ValueError(\"Marks have to be between 0 and 80.\")\n",
    "        else:\n",
    "            return marks\n",
    "    except ValueError as error:\n",
    "        print(error)\n",
    "        return req_marks()\n",
    "\n",
    "# returns grade dependant on marks when called. Syntax: int\n",
    "def req_grade(marks):\n",
    "    if (marks >= 70 and marks < 80): print(\"GRADE = A\")\n",
    "    if (marks >= 60 and marks < 70): print(\"GRADE = B\")\n",
    "    if (marks >= 50 and marks < 60): print(\"GRADE = C\")\n",
    "    if (marks >= 40 and marks < 50): print(\"GRADE = D\")\n",
    "    if (marks >= 00 and marks < 40): print(\"GRADE = U\")\n",
    "\n",
    "req_grade(req_marks())"
   ]
  },
  {
   "cell_type": "markdown",
   "metadata": {},
   "source": [
    "### Task 3:\n",
    "Write a Python program which asks the user to enter the cost of two items, adds the two costs and if the cost is greater than £10.00, displays a message “Sorry, too much”. Otherwise it displays the change due from £10.00."
   ]
  },
  {
   "cell_type": "code",
   "execution_count": null,
   "metadata": {},
   "outputs": [],
   "source": [
    "class item():\n",
    "    def __init__(self):\n",
    "        self.cost = 0\n",
    "        self.asked = False\n",
    "\n",
    "def req_item_costs():\n",
    "    try:\n",
    "        if (not item_one.asked):\n",
    "            item_one.cost = float(input(\"[1] ITEM COST: \"))\n",
    "            if (item_one.cost > 0):\n",
    "                item_one.asked = True\n",
    "            else:\n",
    "                print(\"\\nItem cost cannot be below 0.\\n\")\n",
    "                req_item_costs()\n",
    "        if (not item_two.asked):\n",
    "            item_two.cost = float(input(\"[2] ITEM COST: \"))\n",
    "            if (item_two.cost > 0):\n",
    "                item_two.asked = True\n",
    "            else:\n",
    "                print(\"\\nItem cost cannot be below 0.\\n\")\n",
    "                req_item_costs()\n",
    "    except ValueError:\n",
    "        print(\"\\nItem cost has to be a number.\\n\")\n",
    "        req_item_costs()\n",
    "    return item_one.cost + item_two.cost\n",
    "\n",
    "def check_expensitivity(cost, max):\n",
    "    if (cost > max):\n",
    "        print(f\"\\nITEM 1: ${item_one.cost}\")\n",
    "        print(f\"ITEM 2: ${item_two.cost}\\n\")\n",
    "        print(f\"TOTAL: ${item_one.cost + item_two.cost} out of ${max}\\n\")\n",
    "        print(f\"${cost - max} more expensive than limit (${max}).\")\n",
    "    else:\n",
    "        print(f\"\\nITEM 1: ${item_one.cost}\")\n",
    "        print(f\"ITEM 2: ${item_two.cost}\\n\")\n",
    "        print(f\"TOTAL: ${item_one.cost + item_two.cost} out of ${max}\\n\")\n",
    "        print(f\"The price is fine.\\nChange = ${max - cost}\\n\")\n",
    "\n",
    "item_one, item_two = item(), item()\n",
    "\n",
    "check_expensitivity(req_item_costs(), 10)"
   ]
  },
  {
   "cell_type": "markdown",
   "metadata": {},
   "source": [
    "### Task 4: Using IF-ELSE statements, write the Python program for the following problems.\n",
    "\n",
    "1) Allow entry to a movie if the user is older than 18 or if they are accompanied by an adult\n",
    "\n",
    "2) Allow the user to come to your party if they are a boy and they like pizza\n",
    "\n",
    "3) Remind the user to take an umbrella if the temperature is higher than 17 and the chance of rain is higher than 80%"
   ]
  },
  {
   "cell_type": "code",
   "execution_count": null,
   "metadata": {},
   "outputs": [],
   "source": [
    "class User:\n",
    "    def __init__(self, age, supervision, gender, fav_food, temperature, rain):\n",
    "        self.age = age\n",
    "        self.supervision = supervision\n",
    "        self.gender = gender\n",
    "        self.fav_food = fav_food\n",
    "        self.temperature = temperature\n",
    "        self.rain = rain\n",
    "\n",
    "def req_age():\n",
    "    try:\n",
    "        age = int(input(\"AGE: \"))\n",
    "        if (age < 1):\n",
    "            raise ValueError(\"\\nAge cannot be below 0.\\n\")\n",
    "        else:\n",
    "            return age\n",
    "    except ValueError as error:\n",
    "        print(error)\n",
    "        req_age()\n",
    "\n",
    "def req_supervision():\n",
    "    try:\n",
    "        supervision = bool(input(\"ACCOMPANIED BY ADULT (True/False): \"))\n",
    "        if (supervision == True or supervision == False):\n",
    "            return supervision\n",
    "        else:\n",
    "            raise Exception(\"\\nAnswer has to be True or False.\\n\")\n",
    "    except Exception as error:\n",
    "        print(error)\n",
    "        req_supervision()\n",
    "\n",
    "def req_gender():\n",
    "    try:\n",
    "        gender = input(\"GENDER (Male/Female): \").lower()\n",
    "        if (gender == \"male\" or gender == \"female\"):\n",
    "            return gender\n",
    "        else:\n",
    "            raise Exception(\"\\nAnswer has to be Male or Female.\\n\")\n",
    "    except Exception as error:\n",
    "        print(error)\n",
    "        req_gender()\n",
    "\n",
    "def req_fav_food():\n",
    "    return input(\"FAVORITE FOOD: \").lower()\n",
    "\n",
    "def req_temp():\n",
    "    try:\n",
    "        return float(input(\"TEMPERATURE: \"))\n",
    "    except ValueError:\n",
    "        print(\"\\nTemperature has to be a number.\\n\")\n",
    "        req_temp()\n",
    "\n",
    "def req_rain():\n",
    "    try:\n",
    "        return float(input(\"CHANCES OF RAIN (%): \"))\n",
    "    except ValueError:\n",
    "        print(\"\\nChances of rain needs to be a percentage in numbers.\\n\")\n",
    "        req_rain()\n",
    "\n",
    "user_name = User(req_age(), req_supervision(), req_gender(), req_fav_food(), req_temp(), req_rain())\n",
    "\n",
    "print(\"Entry to movies granted.\") if (user_name.age > 18 and user_name.supervision == True) else print(\"Entry to movies denied.\")\n",
    "print(\"Entry to party granted.\") if (user_name.gender == \"male\" and user_name.fav_food == \"pizza\") else print(\"Entry to party denied.\")\n",
    "print(\"Make sure to bring an umbrella with you, it might rain.\") if (user_name.temperature > 17 and user_name.rain > 80) else print(\"No umbrella needed!\")"
   ]
  }
 ],
 "metadata": {
  "kernelspec": {
   "display_name": "Python 3",
   "language": "python",
   "name": "python3"
  },
  "language_info": {
   "codemirror_mode": {
    "name": "ipython",
    "version": 3
   },
   "file_extension": ".py",
   "mimetype": "text/x-python",
   "name": "python",
   "nbconvert_exporter": "python",
   "pygments_lexer": "ipython3",
   "version": "3.6.5"
  }
 },
 "nbformat": 4,
 "nbformat_minor": 2
}
